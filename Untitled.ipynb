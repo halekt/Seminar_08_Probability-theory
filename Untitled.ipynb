{
 "cells": [
  {
   "cell_type": "code",
   "execution_count": 1,
   "id": "2457e621",
   "metadata": {},
   "outputs": [],
   "source": [
    "# Задача 1 Даны значения величины заработной платы заемщиков банка (zp) и значения их\n",
    "# поведенческого кредитного скоринга (ks):\n",
    "# zp = [35, 45, 190, 200, 40, 70, 54, 150, 120, 110],\n",
    "# ks = [401, 574, 874, 919, 459, 739, 653, 902, 746, 832].\n",
    "# Найдите ковариацию этих двух величин с помощью элементарных действий, а затем с\n",
    "# помощью функции cov из numpy\n",
    "# Полученные значения должны быть равны.\n",
    "# Найдите коэффициент корреляции Пирсона с помощью ковариации и\n",
    "# среднеквадратичных отклонений двух признаков,\n",
    "# а затем с использованием функций из библиотек numpy и pandas."
   ]
  },
  {
   "cell_type": "code",
   "execution_count": 42,
   "id": "771ab085",
   "metadata": {},
   "outputs": [],
   "source": [
    "import numpy as np\n",
    "import pandas as pd\n",
    "from scipy import stats"
   ]
  },
  {
   "cell_type": "code",
   "execution_count": 43,
   "id": "7e72292b",
   "metadata": {},
   "outputs": [],
   "source": [
    "zp = np.array([35, 45, 190, 200, 40, 70, 54, 150, 120, 110])\n",
    "ks = np.array([401, 574, 874, 919, 459, 739, 653, 902, 746, 832])"
   ]
  },
  {
   "cell_type": "code",
   "execution_count": 44,
   "id": "84864eb6",
   "metadata": {},
   "outputs": [
    {
     "name": "stdout",
     "output_type": "stream",
     "text": [
      "Коваривция двух величин  = 9157.84\n"
     ]
    }
   ],
   "source": [
    "cov_zp_ks = np.mean(zp*ks) - np.mean(zp)*np.mean(ks)\n",
    "print(f\"Коваривция двух величин  = {cov_zp_ks:.2f}\") "
   ]
  },
  {
   "cell_type": "code",
   "execution_count": 45,
   "id": "e701e082",
   "metadata": {},
   "outputs": [
    {
     "name": "stdout",
     "output_type": "stream",
     "text": [
      "Коваривция двух величин через функцию cov  = 9157.84\n"
     ]
    }
   ],
   "source": [
    "cov_zp_ks = np.cov(zp, ks, ddof=0)[0, 1]\n",
    "print(f\"Коваривция двух величин через функцию cov  = {cov_zp_ks:.2f}\") "
   ]
  },
  {
   "cell_type": "code",
   "execution_count": 46,
   "id": "42bd1038",
   "metadata": {},
   "outputs": [
    {
     "name": "stdout",
     "output_type": "stream",
     "text": [
      "Коэффициент корреляции 0.89\n"
     ]
    }
   ],
   "source": [
    "corr = cov_zp_ks / (np.std(zp) * np.std(ks))\n",
    "print(f\"Коэффициент корреляции {corr:.2f}\") "
   ]
  },
  {
   "cell_type": "code",
   "execution_count": 47,
   "id": "5f1d77e3",
   "metadata": {},
   "outputs": [
    {
     "name": "stdout",
     "output_type": "stream",
     "text": [
      "Коэффициент корреляции через Numpy 0.89\n"
     ]
    }
   ],
   "source": [
    "corr_numpy = np.corrcoef(zp, ks)[0][1]\n",
    "print(f\"Коэффициент корреляции через Numpy {corr_numpy:.2f}\") "
   ]
  },
  {
   "cell_type": "code",
   "execution_count": 48,
   "id": "aefcf220",
   "metadata": {},
   "outputs": [],
   "source": [
    "# Задача 2 Измерены значения IQ выборки студентов,\n",
    "# обучающихся в местных технических вузах:\n",
    "# 131, 125, 115, 122, 131, 115, 107, 99, 125, 111.\n",
    "# Известно, что в генеральной совокупности IQ распределен нормально.\n",
    "# Найдите доверительный интервал для математического ожидания с надежностью 0.95."
   ]
  },
  {
   "cell_type": "code",
   "execution_count": 49,
   "id": "bac2a164",
   "metadata": {},
   "outputs": [],
   "source": [
    "iq = np.array([131, 125, 115, 122, 131, 115, 107, 99, 125, 111])\n",
    "alpha = 0.05"
   ]
  },
  {
   "cell_type": "code",
   "execution_count": 50,
   "id": "f2bbbca1",
   "metadata": {},
   "outputs": [
    {
     "name": "stdout",
     "output_type": "stream",
     "text": [
      "Размер выборки: n = 10\n",
      "Среднее квадратическое отклонение по выборке(несмещенное): 10.55\n",
      "Среднее выборочное: 118.10\n"
     ]
    }
   ],
   "source": [
    "n = iq.size\n",
    "std = iq.std(ddof=1)\n",
    "mean = iq.mean()\n",
    "print(f'Размер выборки: n = {n}')\n",
    "print(f'Среднее квадратическое отклонение по выборке(несмещенное): {std:.2f}')\n",
    "print(f'Среднее выборочное: {mean:.2f}')"
   ]
  },
  {
   "cell_type": "code",
   "execution_count": 51,
   "id": "a4675edd",
   "metadata": {},
   "outputs": [
    {
     "name": "stdout",
     "output_type": "stream",
     "text": [
      " 7.54\n"
     ]
    }
   ],
   "source": [
    "t = stats.t.ppf(1 - alpha / 2, n - 1)\n",
    "d = t * std / (n) ** 0.5\n",
    "print(f' {d:.2f}')"
   ]
  },
  {
   "cell_type": "code",
   "execution_count": 52,
   "id": "ff0f856b",
   "metadata": {},
   "outputs": [
    {
     "name": "stdout",
     "output_type": "stream",
     "text": [
      ">>> Доверительный интервал для математического ожидания с надежностью 0.95 составляет: 110.56; 125.64\n"
     ]
    }
   ],
   "source": [
    "min = mean - d\n",
    "max = mean + d\n",
    "print(f'>>> Доверительный интервал для математического ожидания с надежностью 0.95 составляет:{min: .2f};{max: .2f}')"
   ]
  },
  {
   "cell_type": "code",
   "execution_count": 69,
   "id": "a4fd2361",
   "metadata": {},
   "outputs": [],
   "source": [
    "# Задача 3 Известно, что рост футболистов в сборной распределен нормально\n",
    "# с дисперсией генеральной совокупности, равной 25 кв.см. Объем выборки равен 27,\n",
    "# среднее выборочное составляет 174.2. Найдите доверительный интервал для\n",
    "# математического ожидания с надежностью 0.95."
   ]
  },
  {
   "cell_type": "code",
   "execution_count": 76,
   "id": "a00ec999",
   "metadata": {},
   "outputs": [
    {
     "name": "stdout",
     "output_type": "stream",
     "text": [
      ">>> Доверительный интервал для математического ожидания с надежностью 0.95 составляет: 172.22; 176.18\n"
     ]
    }
   ],
   "source": [
    "var = 25\n",
    "n = 27\n",
    "alpha = 0.05\n",
    "mean = 174.2\n",
    "\n",
    "std = (var)**0.5\n",
    "z=stats.t.ppf(1-alpha/2,n-1)\n",
    "d= z * std/ (n)**0.5\n",
    "\n",
    "min = mean - d\n",
    "max = mean + d\n",
    "print(f'>>> Доверительный интервал для математического ожидания с надежностью 0.95 составляет:{min: .2f};{max: .2f}')"
   ]
  },
  {
   "cell_type": "code",
   "execution_count": null,
   "id": "2d8bea40",
   "metadata": {},
   "outputs": [],
   "source": []
  },
  {
   "cell_type": "code",
   "execution_count": null,
   "id": "9c6dbcb2",
   "metadata": {},
   "outputs": [],
   "source": []
  }
 ],
 "metadata": {
  "kernelspec": {
   "display_name": "Python 3 (ipykernel)",
   "language": "python",
   "name": "python3"
  },
  "language_info": {
   "codemirror_mode": {
    "name": "ipython",
    "version": 3
   },
   "file_extension": ".py",
   "mimetype": "text/x-python",
   "name": "python",
   "nbconvert_exporter": "python",
   "pygments_lexer": "ipython3",
   "version": "3.11.1"
  }
 },
 "nbformat": 4,
 "nbformat_minor": 5
}
